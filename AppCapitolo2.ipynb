{
  "nbformat": 4,
  "nbformat_minor": 0,
  "metadata": {
    "colab": {
      "name": "AppCapitolo2.ipynb",
      "provenance": [],
      "authorship_tag": "ABX9TyM/eT+aHAMt5Kl0bsprxaa0",
      "include_colab_link": true
    },
    "kernelspec": {
      "name": "python3",
      "display_name": "Python 3"
    },
    "language_info": {
      "name": "python"
    },
    "widgets": {
      "application/vnd.jupyter.widget-state+json": {
        "3494331df72e42d3a6b4444c803fbb59": {
          "model_module": "@jupyter-widgets/controls",
          "model_name": "LabelModel",
          "state": {
            "_view_name": "LabelView",
            "style": "IPY_MODEL_651f84b656354dc0bfe7cc124864e4f3",
            "_dom_classes": [],
            "description": "",
            "_model_name": "LabelModel",
            "placeholder": "​",
            "_view_module": "@jupyter-widgets/controls",
            "_model_module_version": "1.5.0",
            "value": "Prediction: grizzly; Probability: 1.0000",
            "_view_count": null,
            "_view_module_version": "1.5.0",
            "description_tooltip": null,
            "_model_module": "@jupyter-widgets/controls",
            "layout": "IPY_MODEL_9c7079c4b42a46e1a8f4103034758d10"
          }
        },
        "651f84b656354dc0bfe7cc124864e4f3": {
          "model_module": "@jupyter-widgets/controls",
          "model_name": "DescriptionStyleModel",
          "state": {
            "_view_name": "StyleView",
            "_model_name": "DescriptionStyleModel",
            "description_width": "",
            "_view_module": "@jupyter-widgets/base",
            "_model_module_version": "1.5.0",
            "_view_count": null,
            "_view_module_version": "1.2.0",
            "_model_module": "@jupyter-widgets/controls"
          }
        },
        "9c7079c4b42a46e1a8f4103034758d10": {
          "model_module": "@jupyter-widgets/base",
          "model_name": "LayoutModel",
          "state": {
            "_view_name": "LayoutView",
            "grid_template_rows": null,
            "right": null,
            "justify_content": null,
            "_view_module": "@jupyter-widgets/base",
            "overflow": null,
            "_model_module_version": "1.2.0",
            "_view_count": null,
            "flex_flow": null,
            "width": null,
            "min_width": null,
            "border": null,
            "align_items": null,
            "bottom": null,
            "_model_module": "@jupyter-widgets/base",
            "top": null,
            "grid_column": null,
            "overflow_y": null,
            "overflow_x": null,
            "grid_auto_flow": null,
            "grid_area": null,
            "grid_template_columns": null,
            "flex": null,
            "_model_name": "LayoutModel",
            "justify_items": null,
            "grid_row": null,
            "max_height": null,
            "align_content": null,
            "visibility": null,
            "align_self": null,
            "height": null,
            "min_height": null,
            "padding": null,
            "grid_auto_rows": null,
            "grid_gap": null,
            "max_width": null,
            "order": null,
            "_view_module_version": "1.2.0",
            "grid_template_areas": null,
            "object_position": null,
            "object_fit": null,
            "grid_auto_columns": null,
            "margin": null,
            "display": null,
            "left": null
          }
        },
        "2250252d9693417d98caea4ff6724e44": {
          "model_module": "@jupyter-widgets/controls",
          "model_name": "VBoxModel",
          "state": {
            "_view_name": "VBoxView",
            "_dom_classes": [],
            "_model_name": "VBoxModel",
            "_view_module": "@jupyter-widgets/controls",
            "_model_module_version": "1.5.0",
            "_view_count": null,
            "_view_module_version": "1.5.0",
            "box_style": "",
            "layout": "IPY_MODEL_8e3a40d9a3e94386ac1476f790b1e284",
            "_model_module": "@jupyter-widgets/controls",
            "children": [
              "IPY_MODEL_3551e8f4062b476ca87a625667370291",
              "IPY_MODEL_0ae6fb91651e4a669dd3bc916481e250",
              "IPY_MODEL_ac0074447fae423baae88bf34d45117e",
              "IPY_MODEL_a99df33857be489bb782d71936dd1ed3",
              "IPY_MODEL_3494331df72e42d3a6b4444c803fbb59"
            ]
          }
        },
        "8e3a40d9a3e94386ac1476f790b1e284": {
          "model_module": "@jupyter-widgets/base",
          "model_name": "LayoutModel",
          "state": {
            "_view_name": "LayoutView",
            "grid_template_rows": null,
            "right": null,
            "justify_content": null,
            "_view_module": "@jupyter-widgets/base",
            "overflow": null,
            "_model_module_version": "1.2.0",
            "_view_count": null,
            "flex_flow": null,
            "width": null,
            "min_width": null,
            "border": null,
            "align_items": null,
            "bottom": null,
            "_model_module": "@jupyter-widgets/base",
            "top": null,
            "grid_column": null,
            "overflow_y": null,
            "overflow_x": null,
            "grid_auto_flow": null,
            "grid_area": null,
            "grid_template_columns": null,
            "flex": null,
            "_model_name": "LayoutModel",
            "justify_items": null,
            "grid_row": null,
            "max_height": null,
            "align_content": null,
            "visibility": null,
            "align_self": null,
            "height": null,
            "min_height": null,
            "padding": null,
            "grid_auto_rows": null,
            "grid_gap": null,
            "max_width": null,
            "order": null,
            "_view_module_version": "1.2.0",
            "grid_template_areas": null,
            "object_position": null,
            "object_fit": null,
            "grid_auto_columns": null,
            "margin": null,
            "display": null,
            "left": null
          }
        },
        "3551e8f4062b476ca87a625667370291": {
          "model_module": "@jupyter-widgets/controls",
          "model_name": "LabelModel",
          "state": {
            "_view_name": "LabelView",
            "style": "IPY_MODEL_4b007576a163480eb40e2cc1476fb89e",
            "_dom_classes": [],
            "description": "",
            "_model_name": "LabelModel",
            "placeholder": "​",
            "_view_module": "@jupyter-widgets/controls",
            "_model_module_version": "1.5.0",
            "value": "Select your bear!",
            "_view_count": null,
            "_view_module_version": "1.5.0",
            "description_tooltip": null,
            "_model_module": "@jupyter-widgets/controls",
            "layout": "IPY_MODEL_43449b7d6e4e44ebb0ed2552273c84d0"
          }
        },
        "0ae6fb91651e4a669dd3bc916481e250": {
          "model_module": "@jupyter-widgets/controls",
          "model_name": "FileUploadModel",
          "state": {
            "_view_name": "FileUploadView",
            "_counter": 0,
            "style": "IPY_MODEL_69a36ffecdac457d997a9be44e1acfb3",
            "_dom_classes": [],
            "description": "Upload",
            "multiple": false,
            "_model_name": "FileUploadModel",
            "data": [],
            "button_style": "",
            "_view_module": "@jupyter-widgets/controls",
            "_model_module_version": "1.5.0",
            "accept": "",
            "_view_count": null,
            "disabled": false,
            "_view_module_version": "1.5.0",
            "error": "",
            "description_tooltip": null,
            "metadata": [],
            "_model_module": "@jupyter-widgets/controls",
            "layout": "IPY_MODEL_99999e6cd15046bf82af4c9ef16b4f44",
            "icon": "upload"
          }
        },
        "ac0074447fae423baae88bf34d45117e": {
          "model_module": "@jupyter-widgets/controls",
          "model_name": "ButtonModel",
          "state": {
            "_view_name": "ButtonView",
            "style": "IPY_MODEL_e75a6cad4ebc4329821bc0935439791d",
            "_dom_classes": [],
            "description": "Classify",
            "_model_name": "ButtonModel",
            "button_style": "",
            "_view_module": "@jupyter-widgets/controls",
            "_model_module_version": "1.5.0",
            "tooltip": "",
            "_view_count": null,
            "disabled": false,
            "_view_module_version": "1.5.0",
            "layout": "IPY_MODEL_ed18fed4aa3149c785f5e2afacce41ff",
            "_model_module": "@jupyter-widgets/controls",
            "icon": ""
          }
        },
        "a99df33857be489bb782d71936dd1ed3": {
          "model_module": "@jupyter-widgets/output",
          "model_name": "OutputModel",
          "state": {
            "_view_name": "OutputView",
            "msg_id": "",
            "_dom_classes": [],
            "_model_name": "OutputModel",
            "outputs": [
              {
                "output_type": "display_data",
                "metadata": {
                  "tags": []
                },
                "image/png": "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\n",
                "text/plain": "<PIL.Image.Image image mode=RGB size=128x91 at 0x7F4F4426F5D0>"
              }
            ],
            "_view_module": "@jupyter-widgets/output",
            "_model_module_version": "1.0.0",
            "_view_count": null,
            "_view_module_version": "1.0.0",
            "layout": "IPY_MODEL_5d1d8f5851a44699b94cf0c313b0b8e1",
            "_model_module": "@jupyter-widgets/output"
          }
        },
        "4b007576a163480eb40e2cc1476fb89e": {
          "model_module": "@jupyter-widgets/controls",
          "model_name": "DescriptionStyleModel",
          "state": {
            "_view_name": "StyleView",
            "_model_name": "DescriptionStyleModel",
            "description_width": "",
            "_view_module": "@jupyter-widgets/base",
            "_model_module_version": "1.5.0",
            "_view_count": null,
            "_view_module_version": "1.2.0",
            "_model_module": "@jupyter-widgets/controls"
          }
        },
        "43449b7d6e4e44ebb0ed2552273c84d0": {
          "model_module": "@jupyter-widgets/base",
          "model_name": "LayoutModel",
          "state": {
            "_view_name": "LayoutView",
            "grid_template_rows": null,
            "right": null,
            "justify_content": null,
            "_view_module": "@jupyter-widgets/base",
            "overflow": null,
            "_model_module_version": "1.2.0",
            "_view_count": null,
            "flex_flow": null,
            "width": null,
            "min_width": null,
            "border": null,
            "align_items": null,
            "bottom": null,
            "_model_module": "@jupyter-widgets/base",
            "top": null,
            "grid_column": null,
            "overflow_y": null,
            "overflow_x": null,
            "grid_auto_flow": null,
            "grid_area": null,
            "grid_template_columns": null,
            "flex": null,
            "_model_name": "LayoutModel",
            "justify_items": null,
            "grid_row": null,
            "max_height": null,
            "align_content": null,
            "visibility": null,
            "align_self": null,
            "height": null,
            "min_height": null,
            "padding": null,
            "grid_auto_rows": null,
            "grid_gap": null,
            "max_width": null,
            "order": null,
            "_view_module_version": "1.2.0",
            "grid_template_areas": null,
            "object_position": null,
            "object_fit": null,
            "grid_auto_columns": null,
            "margin": null,
            "display": null,
            "left": null
          }
        },
        "69a36ffecdac457d997a9be44e1acfb3": {
          "model_module": "@jupyter-widgets/controls",
          "model_name": "ButtonStyleModel",
          "state": {
            "_view_name": "StyleView",
            "_model_name": "ButtonStyleModel",
            "_view_module": "@jupyter-widgets/base",
            "_model_module_version": "1.5.0",
            "_view_count": null,
            "button_color": null,
            "font_weight": "",
            "_view_module_version": "1.2.0",
            "_model_module": "@jupyter-widgets/controls"
          }
        },
        "99999e6cd15046bf82af4c9ef16b4f44": {
          "model_module": "@jupyter-widgets/base",
          "model_name": "LayoutModel",
          "state": {
            "_view_name": "LayoutView",
            "grid_template_rows": null,
            "right": null,
            "justify_content": null,
            "_view_module": "@jupyter-widgets/base",
            "overflow": null,
            "_model_module_version": "1.2.0",
            "_view_count": null,
            "flex_flow": null,
            "width": null,
            "min_width": null,
            "border": null,
            "align_items": null,
            "bottom": null,
            "_model_module": "@jupyter-widgets/base",
            "top": null,
            "grid_column": null,
            "overflow_y": null,
            "overflow_x": null,
            "grid_auto_flow": null,
            "grid_area": null,
            "grid_template_columns": null,
            "flex": null,
            "_model_name": "LayoutModel",
            "justify_items": null,
            "grid_row": null,
            "max_height": null,
            "align_content": null,
            "visibility": null,
            "align_self": null,
            "height": null,
            "min_height": null,
            "padding": null,
            "grid_auto_rows": null,
            "grid_gap": null,
            "max_width": null,
            "order": null,
            "_view_module_version": "1.2.0",
            "grid_template_areas": null,
            "object_position": null,
            "object_fit": null,
            "grid_auto_columns": null,
            "margin": null,
            "display": null,
            "left": null
          }
        },
        "e75a6cad4ebc4329821bc0935439791d": {
          "model_module": "@jupyter-widgets/controls",
          "model_name": "ButtonStyleModel",
          "state": {
            "_view_name": "StyleView",
            "_model_name": "ButtonStyleModel",
            "_view_module": "@jupyter-widgets/base",
            "_model_module_version": "1.5.0",
            "_view_count": null,
            "button_color": null,
            "font_weight": "",
            "_view_module_version": "1.2.0",
            "_model_module": "@jupyter-widgets/controls"
          }
        },
        "ed18fed4aa3149c785f5e2afacce41ff": {
          "model_module": "@jupyter-widgets/base",
          "model_name": "LayoutModel",
          "state": {
            "_view_name": "LayoutView",
            "grid_template_rows": null,
            "right": null,
            "justify_content": null,
            "_view_module": "@jupyter-widgets/base",
            "overflow": null,
            "_model_module_version": "1.2.0",
            "_view_count": null,
            "flex_flow": null,
            "width": null,
            "min_width": null,
            "border": null,
            "align_items": null,
            "bottom": null,
            "_model_module": "@jupyter-widgets/base",
            "top": null,
            "grid_column": null,
            "overflow_y": null,
            "overflow_x": null,
            "grid_auto_flow": null,
            "grid_area": null,
            "grid_template_columns": null,
            "flex": null,
            "_model_name": "LayoutModel",
            "justify_items": null,
            "grid_row": null,
            "max_height": null,
            "align_content": null,
            "visibility": null,
            "align_self": null,
            "height": null,
            "min_height": null,
            "padding": null,
            "grid_auto_rows": null,
            "grid_gap": null,
            "max_width": null,
            "order": null,
            "_view_module_version": "1.2.0",
            "grid_template_areas": null,
            "object_position": null,
            "object_fit": null,
            "grid_auto_columns": null,
            "margin": null,
            "display": null,
            "left": null
          }
        },
        "5d1d8f5851a44699b94cf0c313b0b8e1": {
          "model_module": "@jupyter-widgets/base",
          "model_name": "LayoutModel",
          "state": {
            "_view_name": "LayoutView",
            "grid_template_rows": null,
            "right": null,
            "justify_content": null,
            "_view_module": "@jupyter-widgets/base",
            "overflow": null,
            "_model_module_version": "1.2.0",
            "_view_count": null,
            "flex_flow": null,
            "width": null,
            "min_width": null,
            "border": null,
            "align_items": null,
            "bottom": null,
            "_model_module": "@jupyter-widgets/base",
            "top": null,
            "grid_column": null,
            "overflow_y": null,
            "overflow_x": null,
            "grid_auto_flow": null,
            "grid_area": null,
            "grid_template_columns": null,
            "flex": null,
            "_model_name": "LayoutModel",
            "justify_items": null,
            "grid_row": null,
            "max_height": null,
            "align_content": null,
            "visibility": null,
            "align_self": null,
            "height": null,
            "min_height": null,
            "padding": null,
            "grid_auto_rows": null,
            "grid_gap": null,
            "max_width": null,
            "order": null,
            "_view_module_version": "1.2.0",
            "grid_template_areas": null,
            "object_position": null,
            "object_fit": null,
            "grid_auto_columns": null,
            "margin": null,
            "display": null,
            "left": null
          }
        }
      }
    }
  },
  "cells": [
    {
      "cell_type": "markdown",
      "metadata": {
        "id": "view-in-github",
        "colab_type": "text"
      },
      "source": [
        "<a href=\"https://colab.research.google.com/github/alfredoDIF/provaFASTAI2/blob/main/AppCapitolo2.ipynb\" target=\"_parent\"><img src=\"https://colab.research.google.com/assets/colab-badge.svg\" alt=\"Open In Colab\"/></a>"
      ]
    },
    {
      "cell_type": "code",
      "metadata": {
        "id": "rAllqoXwPCUD"
      },
      "source": [
        "\n",
        "\n",
        "#hide\n",
        "!pip install -Uqq fastbook\n",
        "import fastbook\n",
        "fastbook.setup_book()"
      ],
      "execution_count": 39,
      "outputs": []
    },
    {
      "cell_type": "code",
      "metadata": {
        "id": "6gVYZXjgRgRI"
      },
      "source": [
        "#hide\n",
        "from fastbook import *\n",
        "from fastai.vision.widgets import *"
      ],
      "execution_count": 40,
      "outputs": []
    },
    {
      "cell_type": "code",
      "metadata": {
        "id": "gnFNfNpXRcp2"
      },
      "source": [
        "#hide_output\n",
        "btn_upload = widgets.FileUpload()\n"
      ],
      "execution_count": 41,
      "outputs": []
    },
    {
      "cell_type": "code",
      "metadata": {
        "id": "cqMPXHX0SXc3"
      },
      "source": [
        "#hide_output\n",
        "out_pl = widgets.Output()\n",
        "out_pl.clear_output()\n",
        "with out_pl: display(img.to_thumb(128,128))\n"
      ],
      "execution_count": 42,
      "outputs": []
    },
    {
      "cell_type": "code",
      "metadata": {
        "colab": {
          "base_uri": "https://localhost:8080/"
        },
        "id": "o5dwsy7ATwgj",
        "outputId": "9f1fa5c6-3238-4aa6-d1be-1a2091c0180a"
      },
      "source": [
        "path = Path()\n",
        "path.ls(file_exts='.pkl')"
      ],
      "execution_count": 43,
      "outputs": [
        {
          "output_type": "execute_result",
          "data": {
            "text/plain": [
              "(#1) [Path('export.pkl')]"
            ]
          },
          "metadata": {
            "tags": []
          },
          "execution_count": 43
        }
      ]
    },
    {
      "cell_type": "code",
      "metadata": {
        "id": "9cmACq-hSws2"
      },
      "source": [
        "learn_inf = load_learner(path/'export.pkl')"
      ],
      "execution_count": 44,
      "outputs": []
    },
    {
      "cell_type": "code",
      "metadata": {
        "colab": {
          "base_uri": "https://localhost:8080/",
          "height": 17
        },
        "id": "_FZ1jYwGScsm",
        "outputId": "892c7599-ab21-44f4-9670-0894afc0e47c"
      },
      "source": [
        "pred,pred_idx,probs = learn_inf.predict(img)\n"
      ],
      "execution_count": 45,
      "outputs": [
        {
          "output_type": "display_data",
          "data": {
            "text/html": [
              ""
            ],
            "text/plain": [
              "<IPython.core.display.HTML object>"
            ]
          },
          "metadata": {
            "tags": []
          }
        }
      ]
    },
    {
      "cell_type": "code",
      "metadata": {
        "colab": {
          "base_uri": "https://localhost:8080/"
        },
        "id": "NFw7qucwVDz-",
        "outputId": "b055e711-2c7f-4de7-b907-fd6213347e8a"
      },
      "source": [
        "learn_inf.dls.vocab"
      ],
      "execution_count": 46,
      "outputs": [
        {
          "output_type": "execute_result",
          "data": {
            "text/plain": [
              "['black', 'grizzly', 'teddy']"
            ]
          },
          "metadata": {
            "tags": []
          },
          "execution_count": 46
        }
      ]
    },
    {
      "cell_type": "code",
      "metadata": {
        "colab": {
          "base_uri": "https://localhost:8080/",
          "height": 49,
          "referenced_widgets": [
            "3494331df72e42d3a6b4444c803fbb59",
            "651f84b656354dc0bfe7cc124864e4f3",
            "9c7079c4b42a46e1a8f4103034758d10"
          ]
        },
        "id": "3cbZc_C_VPi1",
        "outputId": "00e334ef-81f1-4e64-bc70-952b7d5a5bbb"
      },
      "source": [
        "lbl_pred = widgets.Label()\n",
        "lbl_pred.value = f'Prediction: {pred}; Probability: {probs[pred_idx]:.04f}'\n",
        "lbl_pred"
      ],
      "execution_count": 47,
      "outputs": [
        {
          "output_type": "display_data",
          "data": {
            "application/vnd.jupyter.widget-view+json": {
              "model_id": "3494331df72e42d3a6b4444c803fbb59",
              "version_minor": 0,
              "version_major": 2
            },
            "text/plain": [
              "Label(value='Prediction: grizzly; Probability: 1.0000')"
            ]
          },
          "metadata": {
            "tags": []
          }
        }
      ]
    },
    {
      "cell_type": "code",
      "metadata": {
        "id": "qItSVFoUVaUS"
      },
      "source": [
        "#hide_output\n",
        "btn_run = widgets.Button(description='Classify')\n"
      ],
      "execution_count": 48,
      "outputs": []
    },
    {
      "cell_type": "code",
      "metadata": {
        "id": "pORZkLISVfPa"
      },
      "source": [
        "def on_click_classify(change):\n",
        "    img = PILImage.create(btn_upload.data[-1])\n",
        "    out_pl.clear_output()\n",
        "    with out_pl: display(img.to_thumb(128,128))\n",
        "    pred,pred_idx,probs = learn_inf.predict(img)\n",
        "    lbl_pred.value = f'Prediction: {pred}; Probability: {probs[pred_idx]:.04f}'\n",
        "\n",
        "btn_run.on_click(on_click_classify)"
      ],
      "execution_count": 49,
      "outputs": []
    },
    {
      "cell_type": "code",
      "metadata": {
        "id": "aEmC8ssbVpYS"
      },
      "source": [
        "#hide\n",
        "#Putting back btn_upload to a widget for next cell\n",
        "btn_upload = widgets.FileUpload()"
      ],
      "execution_count": 50,
      "outputs": []
    },
    {
      "cell_type": "code",
      "metadata": {
        "colab": {
          "base_uri": "https://localhost:8080/",
          "height": 236,
          "referenced_widgets": [
            "2250252d9693417d98caea4ff6724e44",
            "8e3a40d9a3e94386ac1476f790b1e284",
            "3551e8f4062b476ca87a625667370291",
            "0ae6fb91651e4a669dd3bc916481e250",
            "ac0074447fae423baae88bf34d45117e",
            "a99df33857be489bb782d71936dd1ed3",
            "3494331df72e42d3a6b4444c803fbb59",
            "4b007576a163480eb40e2cc1476fb89e",
            "43449b7d6e4e44ebb0ed2552273c84d0",
            "69a36ffecdac457d997a9be44e1acfb3",
            "99999e6cd15046bf82af4c9ef16b4f44",
            "e75a6cad4ebc4329821bc0935439791d",
            "ed18fed4aa3149c785f5e2afacce41ff",
            "651f84b656354dc0bfe7cc124864e4f3",
            "9c7079c4b42a46e1a8f4103034758d10",
            "5d1d8f5851a44699b94cf0c313b0b8e1"
          ]
        },
        "id": "lslbcVfnVtE8",
        "outputId": "95293a8a-d2de-4621-c616-8ff99977261c"
      },
      "source": [
        "#hide_output\n",
        "VBox([widgets.Label('Select your bear!'), \n",
        "      btn_upload, btn_run, out_pl, lbl_pred])"
      ],
      "execution_count": 51,
      "outputs": [
        {
          "output_type": "display_data",
          "data": {
            "application/vnd.jupyter.widget-view+json": {
              "model_id": "2250252d9693417d98caea4ff6724e44",
              "version_minor": 0,
              "version_major": 2
            },
            "text/plain": [
              "VBox(children=(Label(value='Select your bear!'), FileUpload(value={}, description='Upload'), Button(descriptio…"
            ]
          },
          "metadata": {
            "tags": []
          }
        }
      ]
    }
  ]
}